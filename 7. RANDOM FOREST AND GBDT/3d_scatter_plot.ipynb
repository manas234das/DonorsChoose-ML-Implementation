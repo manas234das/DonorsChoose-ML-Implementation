{
 "cells": [
  {
   "cell_type": "code",
   "execution_count": null,
   "metadata": {},
   "outputs": [],
   "source": [
    "import plotly.offline as offline\n",
    "import plotly.graph_objs as go\n",
    "offline.init_notebook_mode()\n",
    "import numpy as np"
   ]
  },
  {
   "cell_type": "code",
   "execution_count": null,
   "metadata": {},
   "outputs": [],
   "source": [
    "x1 = [0, 1, 2, 3, 4, 5, 6, 7, 8]\n",
    "y1 = [0, 1, 2, 3, 4, 5, 6, 7, 8]\n",
    "z1 = [0, 1, 2, 3, 4, 5, 6, 7, 8]\n",
    "\n",
    "x2 = [0, 1, 2, 3, 4, 5, 6, 7, 8]\n",
    "y2 = [0, 1, 2, 3, 4, 5, 6, 7, 8]\n",
    "z2 = [1, 0, 3, 2, 5, 4, 7, 6, 8]"
   ]
  },
  {
   "cell_type": "code",
   "execution_count": 3,
   "metadata": {},
   "outputs": [
    {
     "data": {
      "application/vnd.plotly.v1+json": {
       "data": [
        {
         "name": "train",
         "type": "scatter3d",
         "uid": "b33ae0ca-fa4a-11e8-b9d3-88787351cc59",
         "x": [
          0,
          1,
          2,
          3,
          4,
          5,
          6,
          7,
          8
         ],
         "y": [
          0,
          1,
          2,
          3,
          4,
          5,
          6,
          7,
          8
         ],
         "z": [
          0,
          1,
          2,
          3,
          4,
          5,
          6,
          7,
          8
         ]
        },
        {
         "name": "Cross validation",
         "type": "scatter3d",
         "uid": "b33ae0cb-fa4a-11e8-a3b0-88787351cc59",
         "x": [
          0,
          1,
          2,
          3,
          4,
          5,
          6,
          7,
          8
         ],
         "y": [
          0,
          1,
          2,
          3,
          4,
          5,
          6,
          7,
          8
         ],
         "z": [
          1,
          0,
          3,
          2,
          5,
          4,
          7,
          6,
          8
         ]
        }
       ],
       "layout": {
        "scene": {
         "xaxis": {
          "title": "n_estimators"
         },
         "yaxis": {
          "title": "max_depth"
         },
         "zaxis": {
          "title": "AUC"
         }
        }
       }
      },
      "text/html": [
       "<div id=\"c20837fe-f535-44b8-a091-a68c31fa8cf1\" style=\"height: 525px; width: 100%;\" class=\"plotly-graph-div\"></div><script type=\"text/javascript\">require([\"plotly\"], function(Plotly) { window.PLOTLYENV=window.PLOTLYENV || {};window.PLOTLYENV.BASE_URL=\"https://plot.ly\";\n",
       "        Plotly.plot(\n",
       "            'c20837fe-f535-44b8-a091-a68c31fa8cf1',\n",
       "            [{\"name\": \"train\", \"x\": [0, 1, 2, 3, 4, 5, 6, 7, 8], \"y\": [0, 1, 2, 3, 4, 5, 6, 7, 8], \"z\": [0, 1, 2, 3, 4, 5, 6, 7, 8], \"type\": \"scatter3d\", \"uid\": \"b33ae0ca-fa4a-11e8-b9d3-88787351cc59\"}, {\"name\": \"Cross validation\", \"x\": [0, 1, 2, 3, 4, 5, 6, 7, 8], \"y\": [0, 1, 2, 3, 4, 5, 6, 7, 8], \"z\": [1, 0, 3, 2, 5, 4, 7, 6, 8], \"type\": \"scatter3d\", \"uid\": \"b33ae0cb-fa4a-11e8-a3b0-88787351cc59\"}],\n",
       "            {\"scene\": {\"xaxis\": {\"title\": \"n_estimators\"}, \"yaxis\": {\"title\": \"max_depth\"}, \"zaxis\": {\"title\": \"AUC\"}}},\n",
       "            {\"showLink\": true, \"linkText\": \"Export to plot.ly\"}\n",
       "        ).then(function () {return Plotly.addFrames('c20837fe-f535-44b8-a091-a68c31fa8cf1',{});}).then(function(){Plotly.animate('c20837fe-f535-44b8-a091-a68c31fa8cf1');})\n",
       "        });</script>"
      ],
      "text/vnd.plotly.v1+html": [
       "<div id=\"c20837fe-f535-44b8-a091-a68c31fa8cf1\" style=\"height: 525px; width: 100%;\" class=\"plotly-graph-div\"></div><script type=\"text/javascript\">require([\"plotly\"], function(Plotly) { window.PLOTLYENV=window.PLOTLYENV || {};window.PLOTLYENV.BASE_URL=\"https://plot.ly\";\n",
       "        Plotly.plot(\n",
       "            'c20837fe-f535-44b8-a091-a68c31fa8cf1',\n",
       "            [{\"name\": \"train\", \"x\": [0, 1, 2, 3, 4, 5, 6, 7, 8], \"y\": [0, 1, 2, 3, 4, 5, 6, 7, 8], \"z\": [0, 1, 2, 3, 4, 5, 6, 7, 8], \"type\": \"scatter3d\", \"uid\": \"b33ae0ca-fa4a-11e8-b9d3-88787351cc59\"}, {\"name\": \"Cross validation\", \"x\": [0, 1, 2, 3, 4, 5, 6, 7, 8], \"y\": [0, 1, 2, 3, 4, 5, 6, 7, 8], \"z\": [1, 0, 3, 2, 5, 4, 7, 6, 8], \"type\": \"scatter3d\", \"uid\": \"b33ae0cb-fa4a-11e8-a3b0-88787351cc59\"}],\n",
       "            {\"scene\": {\"xaxis\": {\"title\": \"n_estimators\"}, \"yaxis\": {\"title\": \"max_depth\"}, \"zaxis\": {\"title\": \"AUC\"}}},\n",
       "            {\"showLink\": true, \"linkText\": \"Export to plot.ly\"}\n",
       "        ).then(function () {return Plotly.addFrames('c20837fe-f535-44b8-a091-a68c31fa8cf1',{});}).then(function(){Plotly.animate('c20837fe-f535-44b8-a091-a68c31fa8cf1');})\n",
       "        });</script>"
      ]
     },
     "metadata": {},
     "output_type": "display_data"
    }
   ],
   "source": [
    "# https://plot.ly/python/3d-axes/\n",
    "trace1 = go.Scatter3d(x=x1,y=y1,z=z1, name = 'train')\n",
    "trace2 = go.Scatter3d(x=x2,y=y2,z=z2, name = 'Cross validation')\n",
    "data = [trace1, trace2]\n",
    "\n",
    "layout = go.Layout(scene = dict(\n",
    "        xaxis = dict(title='n_estimators'),\n",
    "        yaxis = dict(title='max_depth'),\n",
    "        zaxis = dict(title='AUC'),))\n",
    "\n",
    "fig = go.Figure(data=data, layout=layout)\n",
    "offline.iplot(fig, filename='3d-scatter-colorscale')"
   ]
  }
 ],
 "metadata": {
  "kernelspec": {
   "display_name": "Python 3",
   "language": "python",
   "name": "python3"
  },
  "language_info": {
   "codemirror_mode": {
    "name": "ipython",
    "version": 3
   },
   "file_extension": ".py",
   "mimetype": "text/x-python",
   "name": "python",
   "nbconvert_exporter": "python",
   "pygments_lexer": "ipython3",
   "version": "3.7.3"
  }
 },
 "nbformat": 4,
 "nbformat_minor": 2
}
